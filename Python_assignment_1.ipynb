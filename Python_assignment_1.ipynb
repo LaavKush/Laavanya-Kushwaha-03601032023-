{
  "nbformat": 4,
  "nbformat_minor": 0,
  "metadata": {
    "colab": {
      "provenance": []
    },
    "kernelspec": {
      "name": "python3",
      "display_name": "Python 3"
    },
    "language_info": {
      "name": "python"
    }
  },
  "cells": [
    {
      "cell_type": "markdown",
      "source": [
        "**Assignment 1 Programs**"
      ],
      "metadata": {
        "id": "XsSe3FYKBKak"
      }
    },
    {
      "cell_type": "code",
      "source": [
        "#1\n",
        "num1=eval(input(\"Enter first number:\"))\n",
        "num2=eval(input(\"Enter second number:\"))\n",
        "print(\"The sum of the Two Numbers is:23\",num1+num2)"
      ],
      "metadata": {
        "colab": {
          "base_uri": "https://localhost:8080/"
        },
        "id": "XS0AdvdqBLrj",
        "outputId": "dd6da5fe-75eb-4865-8520-ad37d6e8553e"
      },
      "execution_count": null,
      "outputs": [
        {
          "output_type": "stream",
          "name": "stdout",
          "text": [
            "Enter first number:12\n",
            "Enter second number:23\n",
            "The sum of the Two Numbers is: 35\n"
          ]
        }
      ]
    },
    {
      "cell_type": "code",
      "source": [
        "#2\n",
        "num=int(input(\"Enter a Number:\"))\n",
        "if num>0:\n",
        "    if num//2 == 0:\n",
        "        print(\"The number is Even\")\n",
        "    else:\n",
        "        print(\"The number is Odd\")\n",
        "elif num==0:\n",
        "    print(\"The entered number is neither Odd nor Even\")\n",
        "else:\n",
        "    print(\"This is a Negative Number\")"
      ],
      "metadata": {
        "colab": {
          "base_uri": "https://localhost:8080/"
        },
        "id": "wB06pemMBw_4",
        "outputId": "da8f76a4-70c3-4f22-b800-02aac1d2af8a"
      },
      "execution_count": null,
      "outputs": [
        {
          "output_type": "stream",
          "name": "stdout",
          "text": [
            "Enter a Number:23\n",
            "The number is Odd\n"
          ]
        }
      ]
    },
    {
      "cell_type": "code",
      "source": [
        "#3\n",
        "num=int(input(\"Enter a Number:\"))\n",
        "if num > 0:\n",
        "    fact=1\n",
        "    for i in range(1,num+1):\n",
        "        fact*=i\n",
        "    print(\"Factorial of the Number is\",fact)\n",
        "elif num ==0:\n",
        "    print(\"Factorial of the Number is 1\")\n",
        "else:\n",
        "    print (\"Factorial of a Negative Number cannot be determined\")"
      ],
      "metadata": {
        "colab": {
          "base_uri": "https://localhost:8080/"
        },
        "id": "aMZKTMHoCKbW",
        "outputId": "aafb7aff-2529-4ba2-916f-89ded438534b"
      },
      "execution_count": null,
      "outputs": [
        {
          "output_type": "stream",
          "name": "stdout",
          "text": [
            "Enter a Number:6\n",
            "Factorial of the Number is 720\n"
          ]
        }
      ]
    },
    {
      "cell_type": "code",
      "source": [
        "#4\n",
        "person_name=input(\"Enter Your Name:\")\n",
        "print(\"Hello,\",person_name,\"! Nice to meet you.\")"
      ],
      "metadata": {
        "colab": {
          "base_uri": "https://localhost:8080/"
        },
        "id": "44BQCG3YCcHe",
        "outputId": "698e00ce-39d0-441b-f458-38f42c6cbf36"
      },
      "execution_count": null,
      "outputs": [
        {
          "output_type": "stream",
          "name": "stdout",
          "text": [
            "Enter Your Name:Akshit\n",
            "Hello, Akshit ! Nice to meet you.\n"
          ]
        }
      ]
    },
    {
      "cell_type": "code",
      "source": [
        "#5\n",
        "content =input(\"Enter Text:\")\n",
        "\n",
        "with open('sample_text.txt', 'w') as file:\n",
        "    file.write(content)\n",
        "\n",
        "print(\"Text has been written to sample_text.txt\")"
      ],
      "metadata": {
        "colab": {
          "base_uri": "https://localhost:8080/"
        },
        "id": "h5jxrJheCn0U",
        "outputId": "4fe755fe-920e-4da5-db77-3f94e2a6f9ff"
      },
      "execution_count": null,
      "outputs": [
        {
          "output_type": "stream",
          "name": "stdout",
          "text": [
            "Enter Text:This is merely a sample text.\n",
            "Text has been written to sample_text.txt\n"
          ]
        }
      ]
    },
    {
      "cell_type": "code",
      "source": [
        "#6\n",
        "with open('sample_text.txt', 'r') as file:\n",
        "    content = file.read()\n",
        "\n",
        "print(content)"
      ],
      "metadata": {
        "colab": {
          "base_uri": "https://localhost:8080/"
        },
        "id": "yL-nwIhdC8Rk",
        "outputId": "dc097ff9-29fe-457c-e9c8-300bc61d8af0"
      },
      "execution_count": null,
      "outputs": [
        {
          "output_type": "stream",
          "name": "stdout",
          "text": [
            "This is merely a sample text.\n"
          ]
        }
      ]
    },
    {
      "cell_type": "code",
      "source": [
        "#7\n",
        "s=input(\"Enter a String:\")\n",
        "print(\"The Length of the String is:\",len(s))"
      ],
      "metadata": {
        "colab": {
          "base_uri": "https://localhost:8080/"
        },
        "id": "ihOrYvboDBhT",
        "outputId": "5636a16f-9d6e-4a90-bbb4-d0655bb7645a"
      },
      "execution_count": null,
      "outputs": [
        {
          "output_type": "stream",
          "name": "stdout",
          "text": [
            "Enter a String:Hello Riya!\n",
            "The Length of the String is: 11\n"
          ]
        }
      ]
    },
    {
      "cell_type": "code",
      "source": [
        "#8\n",
        "s1=input(\"Enter first String:\")\n",
        "s2=input(\"Enter second String:\")\n",
        "print(s1+s2)"
      ],
      "metadata": {
        "colab": {
          "base_uri": "https://localhost:8080/"
        },
        "id": "dI3Ygyj0DP2W",
        "outputId": "8786ede6-e607-40f0-c670-53a98d3e1df3"
      },
      "execution_count": null,
      "outputs": [
        {
          "output_type": "stream",
          "name": "stdout",
          "text": [
            "Enter first String:Hello\n",
            "Enter second String:World\n",
            "HelloWorld\n"
          ]
        }
      ]
    },
    {
      "cell_type": "code",
      "source": [
        "#9\n",
        "s1=input(\"Enter first String:\")\n",
        "s2=input(\"Enter second String:\")\n",
        "if s2 in s1:\n",
        "    print(s2,\"is a Substring of stringf\",s1)\n",
        "else:\n",
        "    print(s2,\"is not a Substring of string\",s1)"
      ],
      "metadata": {
        "colab": {
          "base_uri": "https://localhost:8080/"
        },
        "id": "PDaAFGm_DWL7",
        "outputId": "b7340c04-0b67-4bc6-bc70-2c2f34d07d89"
      },
      "execution_count": null,
      "outputs": [
        {
          "output_type": "stream",
          "name": "stdout",
          "text": [
            "Enter first String:The food is yummy!\n",
            "Enter second String:food\n",
            "food is a Substring of string The food is yummy!\n"
          ]
        }
      ]
    },
    {
      "cell_type": "code",
      "source": [
        "#10\n",
        "s=input(\"Enter String:\")\n",
        "if s.isupper():\n",
        "    print(\"Entered string is already in uppercase\")\n",
        "else:\n",
        "    print(s,\"in uppercase:\",s.upper())"
      ],
      "metadata": {
        "colab": {
          "base_uri": "https://localhost:8080/"
        },
        "id": "d-BbZI8vDiFE",
        "outputId": "123f5987-5d56-48e5-eec2-3d8ebc4d4108"
      },
      "execution_count": null,
      "outputs": [
        {
          "output_type": "stream",
          "name": "stdout",
          "text": [
            "Enter String:laavanya\n",
            "laavanya in uppercase: LAAVANYA\n"
          ]
        }
      ]
    },
    {
      "cell_type": "code",
      "source": [
        "#11\n",
        "n = int(input(\"Enter a number: \"))\n",
        "a, b = 0, 1\n",
        "print(\"First\", n, \"numbers in the Fibonacci sequence:\")\n",
        "for i in range(n):\n",
        "    print(a)\n",
        "    a, b = b, a + b"
      ],
      "metadata": {
        "colab": {
          "base_uri": "https://localhost:8080/"
        },
        "id": "k1iYY0FPD6Db",
        "outputId": "51632246-0d26-4db3-a048-d50687832bcd"
      },
      "execution_count": null,
      "outputs": [
        {
          "output_type": "stream",
          "name": "stdout",
          "text": [
            "Enter a number: 8\n",
            "First 8 numbers in the Fibonacci sequence:\n",
            "0\n",
            "1\n",
            "1\n",
            "2\n",
            "3\n",
            "5\n",
            "8\n",
            "13\n"
          ]
        }
      ]
    },
    {
      "cell_type": "code",
      "source": [
        "#12\n",
        "n = int(input(\"Enter a number: \"))\n",
        "sum=0\n",
        "while n>0:\n",
        "    last_digit=n%10\n",
        "    sum+=last_digit\n",
        "    n//=10\n",
        "print(\"Sum of digits of the entered number is:\",sum)"
      ],
      "metadata": {
        "colab": {
          "base_uri": "https://localhost:8080/"
        },
        "id": "WAq7YhTxD-I4",
        "outputId": "f5300c1d-e1fc-47b2-da70-05bb401bdf7a"
      },
      "execution_count": null,
      "outputs": [
        {
          "output_type": "stream",
          "name": "stdout",
          "text": [
            "Enter a number: 2140\n",
            "Sum of digits of the entered number is: 7\n"
          ]
        }
      ]
    },
    {
      "cell_type": "code",
      "source": [
        "#13\n",
        "import datetime\n",
        "now = datetime.datetime.now()\n",
        "current_year = now.year\n",
        "birth_year = int(input(\"Enter your birth year: \"))\n",
        "if birth_year>current_year:\n",
        "    print(\"Wrong birth year entered!\")\n",
        "elif birth_year==current_year:\n",
        "    print(\"You are a new born! (Born this year)\")\n",
        "else:\n",
        "    print(\"Your age:\",current_year-birth_year,\"years\")"
      ],
      "metadata": {
        "colab": {
          "base_uri": "https://localhost:8080/"
        },
        "id": "nfvQwXV2EEQP",
        "outputId": "4b7515e2-63ef-4291-9138-485563e23347"
      },
      "execution_count": null,
      "outputs": [
        {
          "output_type": "stream",
          "name": "stdout",
          "text": [
            "Enter your birth year: 1995\n",
            "Your age: 29 years\n"
          ]
        }
      ]
    },
    {
      "cell_type": "code",
      "source": [
        "#14\n",
        "lines = []\n",
        "print(\"Enter multiple lines of text (press Enter on an empty line to finish):\")\n",
        "while True:\n",
        "    line = input()\n",
        "    if line == \"\":\n",
        "        break\n",
        "    lines.append(line)\n",
        "print(\"You entered:\")\n",
        "for line in lines:\n",
        "    print(line)"
      ],
      "metadata": {
        "colab": {
          "base_uri": "https://localhost:8080/"
        },
        "id": "vej2HwsIELyI",
        "outputId": "c6e2b905-d937-4515-8d8c-44d22bd74811"
      },
      "execution_count": null,
      "outputs": [
        {
          "output_type": "stream",
          "name": "stdout",
          "text": [
            "Enter multiple lines of text (press Enter on an empty line to finish):\n",
            "This is a first sentence.\n",
            "This is second sentence.\n",
            "This is third sentence.\n",
            "This is fourth sentence.\n",
            "\n",
            "You entered:\n",
            "This is a first sentence.\n",
            "This is second sentence.\n",
            "This is third sentence.\n",
            "This is fourth sentence.\n"
          ]
        }
      ]
    },
    {
      "cell_type": "code",
      "source": [
        "#15\n",
        "import csv\n",
        "filename = 'username.csv'\n",
        "with open(filename, newline='') as csvfile:\n",
        "    csvreader = csv.reader(csvfile)\n",
        "    for row in csvreader:\n",
        "        print(', '.join(row))"
      ],
      "metadata": {
        "colab": {
          "base_uri": "https://localhost:8080/"
        },
        "id": "5pfJfAVPEsCk",
        "outputId": "9d550a66-6246-4fe1-c8a6-cabbc36d608e"
      },
      "execution_count": 28,
      "outputs": [
        {
          "output_type": "stream",
          "name": "stdout",
          "text": [
            "Username; Identifier;First name;Last name\n",
            "booker12;9012;Rachel;Booker\n",
            "grey07;2070;Laura;Grey\n",
            "johnson81;4081;Craig;Johnson\n",
            "jenkins46;9346;Mary;Jenkins\n",
            "smith79;5079;Jamie;Smith\n",
            "\n"
          ]
        }
      ]
    },
    {
      "cell_type": "code",
      "source": [
        "#16\n",
        "s=input(\"Enter a string:\")\n",
        "all_freq = {}\n",
        "for i in s:\n",
        "    if i in all_freq:\n",
        "        all_freq[i] += 1\n",
        "    else:\n",
        "        all_freq[i] = 1\n",
        "print(\"Count of all characters in entered string is :\\n \",all_freq)"
      ],
      "metadata": {
        "id": "jZZPvN6cFEzU",
        "colab": {
          "base_uri": "https://localhost:8080/"
        },
        "outputId": "9283b35e-a47f-4c08-fef8-be30a0f51068"
      },
      "execution_count": 29,
      "outputs": [
        {
          "output_type": "stream",
          "name": "stdout",
          "text": [
            "Enter a string:R8iy!po\n",
            "Count of all characters in entered string is :\n",
            "  {'R': 1, '8': 1, 'i': 1, 'y': 1, '!': 1, 'p': 1, 'o': 1}\n"
          ]
        }
      ]
    },
    {
      "cell_type": "code",
      "source": [
        "#17\n",
        "s=input(\"Enter a string:\")\n",
        "print(\"Entered string in title case:\",s.title())"
      ],
      "metadata": {
        "colab": {
          "base_uri": "https://localhost:8080/"
        },
        "id": "0t7KkF7DFkdQ",
        "outputId": "dffb7705-fd8a-4380-9d5c-a71e3e369737"
      },
      "execution_count": 30,
      "outputs": [
        {
          "output_type": "stream",
          "name": "stdout",
          "text": [
            "Enter a string:this is beautiful.\n",
            "Entered string in title case: This Is Beautiful.\n"
          ]
        }
      ]
    },
    {
      "cell_type": "code",
      "source": [
        "#18\n",
        "str1=input(\"Enter first String:\")\n",
        "str2=input(\"Enter second String:\")\n",
        "if len(str1) != len(str2):\n",
        "       flag= False\n",
        "elif sorted(str1) == sorted(str2):\n",
        "        flag=True\n",
        "else:\n",
        "        flag=False\n",
        "if flag:\n",
        "    print(\"The two strings are anagrams.\")\n",
        "else:\n",
        "    print(\"The two strings are not anagrams.\")"
      ],
      "metadata": {
        "colab": {
          "base_uri": "https://localhost:8080/"
        },
        "id": "wiSecnK3FreS",
        "outputId": "cc3b1e66-ab11-48f4-e139-274ae5ad4c4a"
      },
      "execution_count": 31,
      "outputs": [
        {
          "output_type": "stream",
          "name": "stdout",
          "text": [
            "Enter first String:race\n",
            "Enter second String:care\n",
            "The two strings are anagrams.\n"
          ]
        }
      ]
    },
    {
      "cell_type": "code",
      "source": [
        "#19\n",
        "s=input(\"Enter a string:\")\n",
        "l=[]\n",
        "for i in s:\n",
        "    l.append(i)\n",
        "for i in l:\n",
        "    if i in '''\"!-:;\"',.?\\\"\"''' :\n",
        "       l.remove(i)\n",
        "s1=\"\"\n",
        "for i in l:\n",
        "    s1+=i\n",
        "print(\"String without punctuation marks:\",s1)"
      ],
      "metadata": {
        "colab": {
          "base_uri": "https://localhost:8080/"
        },
        "id": "TZ0QoVAjF72D",
        "outputId": "9c519171-6569-4d80-8161-113573dbc1f8"
      },
      "execution_count": 32,
      "outputs": [
        {
          "output_type": "stream",
          "name": "stdout",
          "text": [
            "Enter a string:Hello! It was nice talking to you.\n",
            "String without punctuation marks: Hello It was nice talking to you\n"
          ]
        }
      ]
    },
    {
      "cell_type": "code",
      "source": [
        "#20\n",
        "l = []\n",
        "sum=0\n",
        "while True:\n",
        "    e=eval(input(\"Enter list of numbers and enter any non-integer character to stop entering:\"))\n",
        "    if type(e)==int:\n",
        "      sum+=e\n",
        "      l.append(e)\n",
        "    else:\n",
        "      break\n",
        "print(\"list of numbers:\",l)\n",
        "print(\"sum of numbers:\",sum)"
      ],
      "metadata": {
        "colab": {
          "base_uri": "https://localhost:8080/"
        },
        "id": "3T7R-BtBGH1n",
        "outputId": "264bd8de-e563-4dc2-a590-ac3da4ff95a9"
      },
      "execution_count": 38,
      "outputs": [
        {
          "output_type": "stream",
          "name": "stdout",
          "text": [
            "Enter list of numbers and enter any non-integer character to stop entering:2\n",
            "Enter list of numbers and enter any non-integer character to stop entering:4\n",
            "Enter list of numbers and enter any non-integer character to stop entering:6\n",
            "Enter list of numbers and enter any non-integer character to stop entering:12\n",
            "Enter list of numbers and enter any non-integer character to stop entering:22\n",
            "Enter list of numbers and enter any non-integer character to stop entering:s\n",
            "list of numbers: [2, 4, 6, 12, 22]\n",
            "sum of numbers: 46\n"
          ]
        }
      ]
    },
    {
      "cell_type": "code",
      "source": [
        "#215\n",
        "4\n",
        "try:\n",
        "    l = []\n",
        "    while True:\n",
        "        l.append(int(input(\"Enter list of numbers and enter any non-integer character to stop entering....\")))\n",
        "except:\n",
        "    print(\"list of numbers:\",l)\n",
        "    e=int(input(\"Enter any element:\"))\n",
        "    print(\"The occurrences of\",e,\"in\",l,\"is:\",l.count(e))"
      ],
      "metadata": {
        "colab": {
          "base_uri": "https://localhost:8080/"
        },
        "id": "HKcyTTQqIJJ7",
        "outputId": "05357b0c-d94e-4e4c-c7c8-1c3118e453a7"
      },
      "execution_count": 39,
      "outputs": [
        {
          "output_type": "stream",
          "name": "stdout",
          "text": [
            "Enter list of numbers and enter any non-integer character to stop entering....2\n",
            "Enter list of numbers and enter any non-integer character to stop entering....6\n",
            "Enter list of numbers and enter any non-integer character to stop entering....8\n",
            "Enter list of numbers and enter any non-integer character to stop entering....12\n",
            "Enter list of numbers and enter any non-integer character to stop entering....23\n",
            "Enter list of numbers and enter any non-integer character to stop entering....5\n",
            "Enter list of numbers and enter any non-integer character to stop entering....67\n",
            "Enter list of numbers and enter any non-integer character to stop entering....s\n",
            "list of numbers: [2, 6, 8, 12, 23, 5, 67]\n",
            "Enter any element:2\n",
            "The occurrences of 2 in [2, 6, 8, 12, 23, 5, 67] is: 1\n"
          ]
        }
      ]
    },
    {
      "cell_type": "code",
      "source": [
        "8127\n",
        "#22\n",
        "try:\n",
        "    l = []\n",
        "    while True:\n",
        "        l.append(int(input(\"Enter list of numbers and enter any non-integer character to stop entering....\")))\n",
        "except:\n",
        "    print(\"list of numbers:\",l)\n",
        "    print(\"The maximum value in\",l,\"is:\",max(l))\n",
        "    print(\"The minimum value in\",l,\"is:\",min(l))"
      ],
      "metadata": {
        "colab": {
          "base_uri": "https://localhost:8080/"
        },
        "id": "TD0haoWqIZsL",
        "outputId": "a9cbbb7e-a22c-48d9-e7e9-0270444d2a20"
      },
      "execution_count": 41,
      "outputs": [
        {
          "output_type": "stream",
          "name": "stdout",
          "text": [
            "Enter list of numbers and enter any non-integer character to stop entering....5\n",
            "Enter list of numbers and enter any non-integer character to stop entering....12\n",
            "Enter list of numbers and enter any non-integer character to stop entering....45\n",
            "Enter list of numbers and enter any non-integer character to stop entering....2\n",
            "Enter list of numbers and enter any non-integer character to stop entering....s\n",
            "list of numbers: [5, 12, 45, 2]\n",
            "The maximum value in [5, 12, 45, 2] is: 45\n",
            "The minimum value in [5, 12, 45, 2] is: 2\n"
          ]
        }
      ]
    },
    {
      "cell_type": "code",
      "source": [
        "#23\n",
        "def celsius_to_fahrenheit(celsius):\n",
        "    return (celsius * 9/5) + 32\n",
        "\n",
        "def fahrenheit_to_celsius(fahrenheit):\n",
        "    return (fahrenheit - 32) * 5/9\n",
        "\n",
        "temp = eval(input(\"Enter temperature to be converted:\"))\n",
        "scale =input(\"Enter C for celsius to farenheit conversion and F for farenheit to celsius conversion\")\n",
        "\n",
        "if scale.upper() == 'C':\n",
        "    print(f\"{temp}°C is {celsius_to_fahrenheit(temp)}°F\")\n",
        "elif scale.upper() == 'F':\n",
        "    print(f\"{temp}°F is {fahrenheit_to_celsius(temp)}°C\")\n",
        "else:\n",
        "    print(\"Invalid scale!\")"
      ],
      "metadata": {
        "colab": {
          "base_uri": "https://localhost:8080/"
        },
        "id": "z8PsqpgLIc3f",
        "outputId": "d9341ccf-1842-4a92-a014-6b4c4fc945e3"
      },
      "execution_count": 43,
      "outputs": [
        {
          "output_type": "stream",
          "name": "stdout",
          "text": [
            "Enter temperature to be converted:37.6\n",
            "Enter C for celsius to farenheit conversion and F for farenheit to celsius conversionC\n",
            "37.6°C is 99.68°F\n"
          ]
        }
      ]
    },
    {
      "cell_type": "code",
      "source": [
        "#24\n",
        "def calculator(num1, num2, operator):\n",
        "    if operator == '+':\n",
        "        return num1 + num2\n",
        "    elif operator == '-':\n",
        "        return num1 - num2\n",
        "    elif operator == '*':\n",
        "        return num1 * num2\n",
        "    elif operator == '/':\n",
        "        return num1 / num2\n",
        "    else:\n",
        "        return \"Invalid operator\"\n",
        "\n",
        "num1 = int(input(\"Enter first number:\") )\n",
        "num2 = int(input(\"Enter second number:\") )\n",
        "operator = input(\"Enter any operator (+,-,*,/):4\")\n",
        "print(\"The result is:\",calculator(num1, num2, operator))"
      ],
      "metadata": {
        "colab": {
          "base_uri": "https://localhost:8080/"
        },
        "id": "wW2In1W4I2hi",
        "outputId": "70ce4080-8bfd-4ac5-a37c-4f42c077e88d"
      },
      "execution_count": 45,
      "outputs": [
        {
          "output_type": "stream",
          "name": "stdout",
          "text": [
            "Enter first number:26\n",
            "Enter second number:5\n",
            "Enter any operator (+,-,*,/):*\n",
            "The result is: 130\n"
          ]
        }
      ]
    },
    {
      "cell_type": "code",
      "source": [
        "#25\n",
        "def copy_file_contents(source, destination):\n",
        "    with open(source, 'r') as src:\n",
        "        contents = src.read()\n",
        "    with open(destination, 'w') as dest:\n",
        "        dest.write(contents)\n",
        "\n",
        "source = 'sample_text.txt'\n",
        "destination = 'destination.txt'\n",
        "copy_file_contents(source, destination)\n",
        "print(f\"Contents copied from {source} to {destination}\")"
      ],
      "metadata": {
        "colab": {
          "base_uri": "https://localhost:8080/"
        },
        "id": "AoowtXOGJE5u",
        "outputId": "124d3680-7049-4ce9-c496-beab2f50801f"
      },
      "execution_count": 46,
      "outputs": [
        {
          "output_type": "stream",
          "name": "stdout",
          "text": [
            "Contents copied from sample_text.txt to destination.txt\n"
          ]
        }
      ]
    },
    {
      "cell_type": "code",
      "source": [
        "#26\n",
        "def check_prefix_suffix(string, prefix, suffix):\n",
        "    starts_with = string.startswith(prefix)\n",
        "    ends_with = string.endswith(suffix)\n",
        "    return starts_with, ends_with\n",
        "\n",
        "string = input(\"Enter a string: \")\n",
        "prefix = input(\"Enter a prefix to check: \")\n",
        "suffix = input(\"Enter a suffix to check: \")\n",
        "\n",
        "starts_with, ends_with = check_prefix_suffix(string, prefix, suffix)\n",
        "\n",
        "if starts_with:\n",
        "    print(f\"The string starts with the prefix '{prefix}'.\")\n",
        "else:\n",
        "    print(f\"The string does not start with the prefix '{prefix}'.\")\n",
        "\n",
        "if ends_with:\n",
        "    print(f\"The string ends with the suffix '{suffix}'.\")\n",
        "else:\n",
        "    print(f\"The string does not end with the suffix '{suffix}'.\")"
      ],
      "metadata": {
        "colab": {
          "base_uri": "https://localhost:8080/"
        },
        "id": "gnVkT4WRJJca",
        "outputId": "0bdc667a-1756-4f6b-c7db-ea6d4741c9b0"
      },
      "execution_count": 47,
      "outputs": [
        {
          "output_type": "stream",
          "name": "stdout",
          "text": [
            "Enter a string: hello world\n",
            "Enter a prefix to check: hello\n",
            "Enter a suffix to check: world\n",
            "The string starts with the prefix 'hello'.\n",
            "The string ends with the suffix 'world'.\n"
          ]
        }
      ]
    },
    {
      "cell_type": "code",
      "source": [
        "#27\n",
        "s=input(\"Enter a string:\")\n",
        "l=[]\n",
        "for i in s:\n",
        "    l.append(i)\n",
        "print(\"List of characters of string is:\",l)"
      ],
      "metadata": {
        "colab": {
          "base_uri": "https://localhost:8080/"
        },
        "id": "f5mAI6NGJizj",
        "outputId": "86118371-1fc7-4dab-81bd-e2d6d29faab2"
      },
      "execution_count": 48,
      "outputs": [
        {
          "output_type": "stream",
          "name": "stdout",
          "text": [
            "Enter a string:Roses are red.\n",
            "List of characters of string is: ['R', 'o', 's', 'e', 's', ' ', 'a', 'r', 'e', ' ', 'r', 'e', 'd', '.']\n"
          ]
        }
      ]
    }
  ]
}